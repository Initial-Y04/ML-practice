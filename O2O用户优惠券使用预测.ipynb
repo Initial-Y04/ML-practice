{
 "cells": [
  {
   "cell_type": "markdown",
   "metadata": {},
   "source": [
    "# O2O用户优惠券使用预测"
   ]
  },
  {
   "cell_type": "code",
   "execution_count": 61,
   "metadata": {},
   "outputs": [],
   "source": [
    "import pandas as pd\n",
    "import numpy as np\n",
    "from sklearn.model_selection import train_test_split,GridSearchCV\n",
    "from datetime import date\n",
    "import matplotlib.pyplot as plt\n",
    "\n",
    "%matplotlib inline"
   ]
  },
  {
   "cell_type": "markdown",
   "metadata": {},
   "source": [
    "# 数据读取并查看"
   ]
  },
  {
   "cell_type": "code",
   "execution_count": 31,
   "metadata": {
    "scrolled": true
   },
   "outputs": [],
   "source": [
    "data = pd.read_csv(r'F:\\pythoncode\\Hands on machine learning\\Hands on machine learning\\ML-project\\O2O优惠券使用预测\\ccf_offline_stage1_train.csv',\n",
    "                            dtype={'Coupon_id':str,'Distance':str,'Date_received':str,'Date':str})"
   ]
  },
  {
   "cell_type": "code",
   "execution_count": 34,
   "metadata": {},
   "outputs": [
    {
     "data": {
      "text/html": [
       "<div>\n",
       "<style scoped>\n",
       "    .dataframe tbody tr th:only-of-type {\n",
       "        vertical-align: middle;\n",
       "    }\n",
       "\n",
       "    .dataframe tbody tr th {\n",
       "        vertical-align: top;\n",
       "    }\n",
       "\n",
       "    .dataframe thead th {\n",
       "        text-align: right;\n",
       "    }\n",
       "</style>\n",
       "<table border=\"1\" class=\"dataframe\">\n",
       "  <thead>\n",
       "    <tr style=\"text-align: right;\">\n",
       "      <th></th>\n",
       "      <th>User_id</th>\n",
       "      <th>Merchant_id</th>\n",
       "      <th>Coupon_id</th>\n",
       "      <th>Discount_rate</th>\n",
       "      <th>Distance</th>\n",
       "      <th>Date_received</th>\n",
       "      <th>Date</th>\n",
       "    </tr>\n",
       "  </thead>\n",
       "  <tbody>\n",
       "    <tr>\n",
       "      <th>0</th>\n",
       "      <td>1439408</td>\n",
       "      <td>2632</td>\n",
       "      <td>NaN</td>\n",
       "      <td>NaN</td>\n",
       "      <td>0</td>\n",
       "      <td>NaN</td>\n",
       "      <td>20160217</td>\n",
       "    </tr>\n",
       "    <tr>\n",
       "      <th>1</th>\n",
       "      <td>1439408</td>\n",
       "      <td>4663</td>\n",
       "      <td>11002</td>\n",
       "      <td>150:20</td>\n",
       "      <td>1</td>\n",
       "      <td>20160528</td>\n",
       "      <td>NaN</td>\n",
       "    </tr>\n",
       "    <tr>\n",
       "      <th>2</th>\n",
       "      <td>1439408</td>\n",
       "      <td>2632</td>\n",
       "      <td>8591</td>\n",
       "      <td>20:1</td>\n",
       "      <td>0</td>\n",
       "      <td>20160217</td>\n",
       "      <td>NaN</td>\n",
       "    </tr>\n",
       "    <tr>\n",
       "      <th>3</th>\n",
       "      <td>1439408</td>\n",
       "      <td>2632</td>\n",
       "      <td>1078</td>\n",
       "      <td>20:1</td>\n",
       "      <td>0</td>\n",
       "      <td>20160319</td>\n",
       "      <td>NaN</td>\n",
       "    </tr>\n",
       "    <tr>\n",
       "      <th>4</th>\n",
       "      <td>1439408</td>\n",
       "      <td>2632</td>\n",
       "      <td>8591</td>\n",
       "      <td>20:1</td>\n",
       "      <td>0</td>\n",
       "      <td>20160613</td>\n",
       "      <td>NaN</td>\n",
       "    </tr>\n",
       "  </tbody>\n",
       "</table>\n",
       "</div>"
      ],
      "text/plain": [
       "   User_id  Merchant_id Coupon_id Discount_rate Distance Date_received  \\\n",
       "0  1439408         2632       NaN           NaN        0           NaN   \n",
       "1  1439408         4663     11002        150:20        1      20160528   \n",
       "2  1439408         2632      8591          20:1        0      20160217   \n",
       "3  1439408         2632      1078          20:1        0      20160319   \n",
       "4  1439408         2632      8591          20:1        0      20160613   \n",
       "\n",
       "       Date  \n",
       "0  20160217  \n",
       "1       NaN  \n",
       "2       NaN  \n",
       "3       NaN  \n",
       "4       NaN  "
      ]
     },
     "execution_count": 34,
     "metadata": {},
     "output_type": "execute_result"
    }
   ],
   "source": [
    "data.head(5)"
   ]
  },
  {
   "cell_type": "markdown",
   "metadata": {},
   "source": [
    "#User_id：用户ID；   Merchant_id：商户ID；\n",
    "#Coupon_id：优惠券ID，null表示无优惠券消费，此时Discount_rate和Date_received字段无意义；\n",
    "#Discount_rate：优惠率：x \\in [0,1]代表折扣率；x:y表示满x减y。单位是元；\n",
    "#Distance：user经常活动的地点离该merchant的最近门店距离是x*500米（如果是连锁店，则取最近的一家门店），x\\in[0,10]；null表示无此信息，0表示低于500米，10表示大于5公里；\n",
    "#Date_received：领取优惠券日期\n",
    "#Date：消费日期：如果Date=null & Coupon_id != null，该记录表示领取优惠券但没有使用，即负样本；如果Date!=null & Coupon_id = null，则表示普通消费日期；如果Date!=null & Coupon_id != null，则表示用优惠券消费日期，即正样本"
   ]
  },
  {
   "cell_type": "code",
   "execution_count": 36,
   "metadata": {},
   "outputs": [
    {
     "name": "stdout",
     "output_type": "stream",
     "text": [
      "数据总条数：1754884\n",
      "有优惠券，消费：75382\n",
      "无优惠券，消费：701602\n",
      "有优惠券，无消费：977900\n",
      "无优惠券，无消费：0\n"
     ]
    }
   ],
   "source": [
    "print('数据总条数：{}'.format(data.shape[0]))\n",
    "print('有优惠券，消费：{}'.format(data.loc[(data['Coupon_id'].isnull().values == False)&(data['Date'].isnull().values == False)].shape[0]))\n",
    "print('无优惠券，消费：{}'.format(data.loc[(data['Coupon_id'].isnull().values == True)&(data['Date'].isnull().values == False)].shape[0]))\n",
    "print('有优惠券，无消费：{}'.format(data.loc[(data['Coupon_id'].isnull().values == False)&(data['Date'].isnull().values == True)].shape[0]))\n",
    "print('无优惠券，无消费：{}'.format(data.loc[(offline_train['Coupon_id'].isnull().values == True)&(data['Date'].isnull().values == True)].shape[0]))"
   ]
  },
  {
   "cell_type": "markdown",
   "metadata": {},
   "source": [
    "使用优惠券进行消费的仅有75382条，大部分消费者收到优惠券后并不用优惠券消费（977900条），核销率较低。"
   ]
  },
  {
   "cell_type": "markdown",
   "metadata": {},
   "source": [
    "# 数据预处理"
   ]
  },
  {
   "cell_type": "markdown",
   "metadata": {},
   "source": [
    "1、转换优惠券折扣率：将满xx减yy类型(xx:yy)的券变成折扣率 : 1 - yy/xx，同时建立折扣券相关的特征 discount_rate, discount_man, discount_jian, discount_type；\n",
    "2、将距离中的缺失值\"nan\"转换为-1"
   ]
  },
  {
   "cell_type": "code",
   "execution_count": 37,
   "metadata": {},
   "outputs": [
    {
     "name": "stdout",
     "output_type": "stream",
     "text": [
      "Discount_rate 类型： [nan '150:20' '20:1' '200:20' '30:5' '50:10' '10:5' '100:10' '200:30'\n",
      " '20:5' '30:10' '50:5' '150:10' '100:30' '200:50' '100:50' '300:30'\n",
      " '50:20' '0.9' '10:1' '30:1' '0.95' '100:5' '5:1' '100:20' '0.8' '50:1'\n",
      " '200:10' '300:20' '100:1' '150:30' '300:50' '20:10' '0.85' '0.6' '150:50'\n",
      " '0.75' '0.5' '200:5' '0.7' '30:20' '300:10' '0.2' '50:30' '200:100'\n",
      " '150:5']\n"
     ]
    }
   ],
   "source": [
    "print('Discount_rate 类型：',data['Discount_rate'].unique())"
   ]
  },
  {
   "cell_type": "code",
   "execution_count": 38,
   "metadata": {},
   "outputs": [
    {
     "data": {
      "text/html": [
       "<div>\n",
       "<style scoped>\n",
       "    .dataframe tbody tr th:only-of-type {\n",
       "        vertical-align: middle;\n",
       "    }\n",
       "\n",
       "    .dataframe tbody tr th {\n",
       "        vertical-align: top;\n",
       "    }\n",
       "\n",
       "    .dataframe thead th {\n",
       "        text-align: right;\n",
       "    }\n",
       "</style>\n",
       "<table border=\"1\" class=\"dataframe\">\n",
       "  <thead>\n",
       "    <tr style=\"text-align: right;\">\n",
       "      <th></th>\n",
       "      <th>User_id</th>\n",
       "      <th>Merchant_id</th>\n",
       "      <th>Coupon_id</th>\n",
       "      <th>Discount_rate</th>\n",
       "      <th>Distance</th>\n",
       "      <th>Date_received</th>\n",
       "      <th>Date</th>\n",
       "      <th>discount_rate</th>\n",
       "      <th>discount_man</th>\n",
       "      <th>discount_jian</th>\n",
       "      <th>discount_type</th>\n",
       "      <th>distance</th>\n",
       "    </tr>\n",
       "  </thead>\n",
       "  <tbody>\n",
       "    <tr>\n",
       "      <th>0</th>\n",
       "      <td>1439408</td>\n",
       "      <td>2632</td>\n",
       "      <td>NaN</td>\n",
       "      <td>NaN</td>\n",
       "      <td>0</td>\n",
       "      <td>NaN</td>\n",
       "      <td>20160217</td>\n",
       "      <td>1.000000</td>\n",
       "      <td>0</td>\n",
       "      <td>0</td>\n",
       "      <td>NaN</td>\n",
       "      <td>0</td>\n",
       "    </tr>\n",
       "    <tr>\n",
       "      <th>1</th>\n",
       "      <td>1439408</td>\n",
       "      <td>4663</td>\n",
       "      <td>11002</td>\n",
       "      <td>150:20</td>\n",
       "      <td>1</td>\n",
       "      <td>20160528</td>\n",
       "      <td>NaN</td>\n",
       "      <td>0.866667</td>\n",
       "      <td>150</td>\n",
       "      <td>20</td>\n",
       "      <td>1.0</td>\n",
       "      <td>1</td>\n",
       "    </tr>\n",
       "    <tr>\n",
       "      <th>2</th>\n",
       "      <td>1439408</td>\n",
       "      <td>2632</td>\n",
       "      <td>8591</td>\n",
       "      <td>20:1</td>\n",
       "      <td>0</td>\n",
       "      <td>20160217</td>\n",
       "      <td>NaN</td>\n",
       "      <td>0.950000</td>\n",
       "      <td>20</td>\n",
       "      <td>1</td>\n",
       "      <td>1.0</td>\n",
       "      <td>0</td>\n",
       "    </tr>\n",
       "    <tr>\n",
       "      <th>3</th>\n",
       "      <td>1439408</td>\n",
       "      <td>2632</td>\n",
       "      <td>1078</td>\n",
       "      <td>20:1</td>\n",
       "      <td>0</td>\n",
       "      <td>20160319</td>\n",
       "      <td>NaN</td>\n",
       "      <td>0.950000</td>\n",
       "      <td>20</td>\n",
       "      <td>1</td>\n",
       "      <td>1.0</td>\n",
       "      <td>0</td>\n",
       "    </tr>\n",
       "    <tr>\n",
       "      <th>4</th>\n",
       "      <td>1439408</td>\n",
       "      <td>2632</td>\n",
       "      <td>8591</td>\n",
       "      <td>20:1</td>\n",
       "      <td>0</td>\n",
       "      <td>20160613</td>\n",
       "      <td>NaN</td>\n",
       "      <td>0.950000</td>\n",
       "      <td>20</td>\n",
       "      <td>1</td>\n",
       "      <td>1.0</td>\n",
       "      <td>0</td>\n",
       "    </tr>\n",
       "  </tbody>\n",
       "</table>\n",
       "</div>"
      ],
      "text/plain": [
       "   User_id  Merchant_id Coupon_id Discount_rate Distance Date_received  \\\n",
       "0  1439408         2632       NaN           NaN        0           NaN   \n",
       "1  1439408         4663     11002        150:20        1      20160528   \n",
       "2  1439408         2632      8591          20:1        0      20160217   \n",
       "3  1439408         2632      1078          20:1        0      20160319   \n",
       "4  1439408         2632      8591          20:1        0      20160613   \n",
       "\n",
       "       Date  discount_rate  discount_man  discount_jian  discount_type  \\\n",
       "0  20160217       1.000000             0              0            NaN   \n",
       "1       NaN       0.866667           150             20            1.0   \n",
       "2       NaN       0.950000            20              1            1.0   \n",
       "3       NaN       0.950000            20              1            1.0   \n",
       "4       NaN       0.950000            20              1            1.0   \n",
       "\n",
       "   distance  \n",
       "0         0  \n",
       "1         1  \n",
       "2         0  \n",
       "3         0  \n",
       "4         0  "
      ]
     },
     "execution_count": 38,
     "metadata": {},
     "output_type": "execute_result"
    }
   ],
   "source": [
    "def get_discount_type(s):\n",
    "    s = str(s)\n",
    "    if s == 'nan':\n",
    "        return None\n",
    "    elif ':' in s:\n",
    "        return 1\n",
    "    else:\n",
    "        return 0\n",
    "\n",
    "def convert_rate(s):\n",
    "    s = str(s)\n",
    "    if s == 'nan':\n",
    "        return 1.0\n",
    "    elif ':' in s:\n",
    "        s = s.split(':')\n",
    "        return 1.0 - float(s[1])/float(s[0])\n",
    "    else:\n",
    "        return float(s)\n",
    "\n",
    "def get_discount_man(s):\n",
    "   s = str(s)\n",
    "   if ':' in s:\n",
    "       s = s.split(':')\n",
    "       return int(s[0])\n",
    "   else:\n",
    "       return 0\n",
    "\n",
    "def get_discount_jian(s):\n",
    "    s = str(s)\n",
    "    if ':' in s:\n",
    "        s = s.split(':')\n",
    "        return int(s[1])\n",
    "    else:\n",
    "        return 0\n",
    "\n",
    "def processdata(df):\n",
    "\n",
    "    df['discount_rate'] = df['Discount_rate'].apply(convert_rate)\n",
    "    df['discount_man'] = df['Discount_rate'].apply(get_discount_man)\n",
    "    df['discount_jian'] = df['Discount_rate'].apply(get_discount_jian)\n",
    "    df['discount_type'] = df['Discount_rate'].apply(get_discount_type)\n",
    "\n",
    "    df['distance'] = df['Distance'].astype(str).replace('nan',-1).astype(int)\n",
    "    return df\n",
    "\n",
    "data = processdata(data)\n",
    "\n",
    "data.head(5)"
   ]
  },
  {
   "cell_type": "code",
   "execution_count": 39,
   "metadata": {},
   "outputs": [
    {
     "name": "stdout",
     "output_type": "stream",
     "text": [
      "[ 0  1 -1  2 10  4  7  9  3  5  6  8]\n"
     ]
    }
   ],
   "source": [
    "print(data['distance'].unique())"
   ]
  },
  {
   "cell_type": "markdown",
   "metadata": {},
   "source": [
    "3、优惠券日期处理"
   ]
  },
  {
   "cell_type": "code",
   "execution_count": 40,
   "metadata": {},
   "outputs": [
    {
     "name": "stdout",
     "output_type": "stream",
     "text": [
      "优惠券收到日期： 20160101 到 20160615\n",
      "用户消费日期： 20160101 到 20160630\n"
     ]
    }
   ],
   "source": [
    "# 优惠券收到日期和消费日期\n",
    "date_received = data['Date_received'].unique()\n",
    "date_received = sorted(date_received[date_received.astype(str) != 'nan'].astype(int))\n",
    "\n",
    "date_buy = data['Date'].unique()\n",
    "date_buy = sorted(date_buy[date_buy.astype(str) != 'nan'].astype(int))\n",
    "\n",
    "print('优惠券收到日期：',date_received[0],'到',date_received[-1])\n",
    "print('用户消费日期：',date_buy[0],'到',date_buy[-1])"
   ]
  },
  {
   "cell_type": "code",
   "execution_count": 41,
   "metadata": {},
   "outputs": [],
   "source": [
    "# 新建关于星期的特征'weekday'\n",
    "def getweekday(s):\n",
    "    s = str(s)\n",
    "    if s == 'nan':\n",
    "        return None\n",
    "    else:\n",
    "        return date(int(s[0:4]),int(s[4:6]),int(s[6:8])).weekday() + 1\n",
    "\n",
    "data['weekday'] = data['Date_received'].apply(getweekday)"
   ]
  },
  {
   "cell_type": "code",
   "execution_count": 42,
   "metadata": {},
   "outputs": [],
   "source": [
    "# 新建特征'weekday_type' : 周六和周日为1，其他为0\n",
    "data['weekday_type'] = data['weekday'].apply(lambda x : 1 if x in [6,7] else 0)"
   ]
  },
  {
   "cell_type": "code",
   "execution_count": 43,
   "metadata": {},
   "outputs": [
    {
     "name": "stdout",
     "output_type": "stream",
     "text": [
      "[nan  6.  3.  1.  5.  4.  7.  2.]\n"
     ]
    }
   ],
   "source": [
    "print(data['weekday'].unique())"
   ]
  },
  {
   "cell_type": "code",
   "execution_count": 44,
   "metadata": {},
   "outputs": [],
   "source": [
    "# 将特征'weekday'进行独热编码\n",
    "data['weekday'] = data['weekday'].astype(str)\n",
    "data = pd.get_dummies(data,columns=['weekday'])\n",
    "data = data.drop(columns=['weekday_nan'])"
   ]
  },
  {
   "cell_type": "markdown",
   "metadata": {},
   "source": [
    "4、数据标注：没有领取优惠券：y=-1，领取优惠券且15天内消费：y=1，其它：y=0"
   ]
  },
  {
   "cell_type": "code",
   "execution_count": 45,
   "metadata": {},
   "outputs": [],
   "source": [
    "def label(s):\n",
    "    if str(s['Date_received']) == 'nan':\n",
    "        return -1\n",
    "    elif str(s['Date']) != 'nan':\n",
    "        td = pd.to_datetime(s['Date'],format='%Y%m%d') - pd.to_datetime(s['Date_received'],format='%Y%m%d')\n",
    "        if td <= pd.Timedelta(15,'D'):\n",
    "            return 1\n",
    "        else:\n",
    "            return 0\n",
    "    else:\n",
    "        return 0\n",
    "data['label'] = data.apply(label,axis=1)"
   ]
  },
  {
   "cell_type": "code",
   "execution_count": 46,
   "metadata": {},
   "outputs": [
    {
     "data": {
      "text/plain": [
       " 0    988887\n",
       "-1    701602\n",
       " 1     64395\n",
       "Name: label, dtype: int64"
      ]
     },
     "execution_count": 46,
     "metadata": {},
     "output_type": "execute_result"
    }
   ],
   "source": [
    "data['label'].value_counts()"
   ]
  },
  {
   "cell_type": "markdown",
   "metadata": {},
   "source": [
    "# 特征提取"
   ]
  },
  {
   "cell_type": "code",
   "execution_count": 55,
   "metadata": {},
   "outputs": [],
   "source": [
    "def userFeature(fdf):\n",
    "    # 用户 User 特征\n",
    "    u = fdf[['User_id']].drop_duplicates()\n",
    "\n",
    "    # 每个用户领取的优惠券数量\n",
    "    u1 = fdf[fdf['Date_received'].isnull().values == False][['User_id']]\n",
    "    u1['u_coupon_count'] = 1\n",
    "    u1 = u1.groupby(['User_id'], as_index=False).count()\n",
    "\n",
    "    # 用户线下购买次数\n",
    "    u2 = fdf[fdf['Date'].isnull().values == False][['User_id']]\n",
    "    u2['u_buy_count'] = 1\n",
    "    u2 = u2.groupby(['User_id'], as_index=False).count()\n",
    "\n",
    "    # 用户线下使用优惠券购买次数\n",
    "    u3 = fdf[((fdf['Date'].isnull().values == False) & (fdf['Date_received'].isnull().values == False))][['User_id']]\n",
    "    u3['u_buy_with_coupon'] = 1\n",
    "    u3 = u3.groupby(['User_id'], as_index=False).count()\n",
    "\n",
    "    # 用户购买过商家数量\n",
    "    u4 = fdf[fdf['Date'].isnull().values == False][['User_id', 'Merchant_id']]\n",
    "    u4.drop_duplicates(inplace=True)\n",
    "    u4 = u4.groupby(['User_id'], as_index=False).count()\n",
    "    u4.rename(columns={'Merchant_id': 'u_merchant_count'}, inplace=True)\n",
    "\n",
    "    # u_min_distance\n",
    "    utmp = fdf[((fdf['Date'].isnull().values == False)) & (fdf['Date_received'].isnull().values == False)][\n",
    "        ['User_id', 'distance']]\n",
    "    utmp.replace(-1, np.nan, inplace=True)\n",
    "    u5 = utmp.groupby(['User_id'], as_index=False).min()\n",
    "    u5.rename(columns={'distance': 'u_min_distance'}, inplace=True)\n",
    "    u6 = utmp.groupby(['User_id'], as_index=False).max()\n",
    "    u6.rename(columns={'distance': 'u_max_distance'}, inplace=True)\n",
    "    u7 = utmp.groupby(['User_id'], as_index=False).mean()\n",
    "    u7.rename(columns={'distance': 'u_mean_distance'}, inplace=True)\n",
    "    u8 = utmp.groupby(['User_id'], as_index=False).median()\n",
    "    u8.rename(columns={'distance': 'u_median_distance'}, inplace=True)\n",
    "\n",
    "    # 把所有用户特征整合\n",
    "    user_feature = pd.merge(u, u1, on='User_id', how='left')\n",
    "    user_feature = pd.merge(user_feature, u2, on='User_id', how='left')\n",
    "    user_feature = pd.merge(user_feature, u3, on='User_id', how='left')\n",
    "    user_feature = pd.merge(user_feature, u4, on='User_id', how='left')\n",
    "    user_feature = pd.merge(user_feature, u5, on='User_id', how='left')\n",
    "    user_feature = pd.merge(user_feature, u6, on='User_id', how='left')\n",
    "    user_feature = pd.merge(user_feature, u7, on='User_id', how='left')\n",
    "    user_feature = pd.merge(user_feature, u8, on='User_id', how='left')\n",
    "\n",
    "    # 用户优惠券使用率\n",
    "    user_feature['u_use_coupon_rate'] = user_feature['u_buy_with_coupon'] / user_feature['u_coupon_count']\n",
    "    user_feature['u_buy_with_coupon_rate'] = user_feature['u_buy_with_coupon'] / user_feature['u_buy_count']\n",
    "    user_feature = user_feature.fillna(0)\n",
    "\n",
    "    return user_feature\n",
    "\n",
    "\n",
    "def merchantFeature(fdf):\n",
    "    # 商家id\n",
    "    m = fdf[['Merchant_id']].copy().drop_duplicates()\n",
    "\n",
    "    # 商家发放的优惠券数量\n",
    "    m1 = fdf[fdf['Date_received'].isnull().values == False][['Merchant_id']]\n",
    "    m1['m_coupon_count'] = 1\n",
    "    m1 = m1.groupby(['Merchant_id'], as_index=False).count()\n",
    "\n",
    "    # 商家销售订单数（全部）\n",
    "    m2 = fdf[fdf['Date'].isnull().values == False][['Merchant_id']]\n",
    "    m2['m_sale_count'] = 1\n",
    "    m2 = m2.groupby(['Merchant_id'], as_index=False).count()\n",
    "\n",
    "    # 商家销售订单数（使用优惠券）\n",
    "    m3 = fdf[(fdf['Date'].isnull().values == False) & (fdf['Date_received'].isnull().values == False)][['Merchant_id']]\n",
    "    m3['m_sale_with_coupon'] = 1\n",
    "    m3 = m3.groupby(['Merchant_id'], as_index=False).count()\n",
    "\n",
    "    # m_min_distance\n",
    "    mtmp = fdf[(fdf['Date'].isnull().values == False) & (fdf['Date_received'].isnull().values == False)][\n",
    "        ['Merchant_id', 'distance']]\n",
    "    mtmp.replace(-1, np.nan, inplace=True)\n",
    "    m4 = mtmp.groupby(['Merchant_id'], as_index=False).min()\n",
    "    m4.rename(columns={'distance': 'm_min_distance'}, inplace=True)\n",
    "    m5 = mtmp.groupby(['Merchant_id'], as_index=False).max()\n",
    "    m5.rename(columns={'distance': 'm_max_distance'}, inplace=True)\n",
    "    m6 = mtmp.groupby(['Merchant_id'], as_index=False).mean()\n",
    "    m6.rename(columns={'distance': 'm_mean_distance'}, inplace=True)\n",
    "    m7 = mtmp.groupby(['Merchant_id'], as_index=False).median()\n",
    "    m7.rename(columns={'distance': 'm_median_distance'}, inplace=True)\n",
    "\n",
    "\n",
    "    # 整合商家特征\n",
    "    merchant_feature = pd.merge(m, m1, on='Merchant_id', how='left')\n",
    "    merchant_feature = pd.merge(merchant_feature, m2, on='Merchant_id', how='left')\n",
    "    merchant_feature = pd.merge(merchant_feature, m3, on='Merchant_id', how='left')\n",
    "    merchant_feature = pd.merge(merchant_feature, m4, on='Merchant_id', how='left')\n",
    "    merchant_feature = pd.merge(merchant_feature, m5, on='Merchant_id', how='left')\n",
    "    merchant_feature = pd.merge(merchant_feature, m6, on='Merchant_id', how='left')\n",
    "    merchant_feature = pd.merge(merchant_feature, m7, on='Merchant_id', how='left')\n",
    "    merchant_feature = merchant_feature.fillna(0)\n",
    "\n",
    "    # 商家优惠券被使用率\n",
    "    merchant_feature['m_coupon_use_rate'] = merchant_feature['m_sale_with_coupon'] / merchant_feature['m_coupon_count']\n",
    "    merchant_feature['m_sale_with_coupon_rate'] = merchant_feature['m_sale_with_coupon'] / merchant_feature[\n",
    "        'm_sale_count']\n",
    "    merchant_feature = merchant_feature.fillna(0)\n",
    "\n",
    "    return merchant_feature\n",
    "\n",
    "\n",
    "def usermerchantFeature(fdf):\n",
    "    um = fdf[['User_id', 'Merchant_id']].copy().drop_duplicates()\n",
    "    um1 = fdf[['User_id', 'Merchant_id']].copy()\n",
    "    um1['um_count'] = 1\n",
    "    um1 = um1.groupby(['User_id', 'Merchant_id'], as_index=False).count()\n",
    "\n",
    "    um2 = fdf[fdf['Date'].isnull().values == False][['User_id', 'Merchant_id']].copy()\n",
    "    um2['um_buy_count'] = 1\n",
    "    um2 = um2.groupby(['User_id', 'Merchant_id'], as_index=False).count()\n",
    "\n",
    "    um3 = fdf[fdf['Date_received'].isnull().values == False][['User_id', 'Merchant_id']].copy()\n",
    "    um3['um_coupon_count'] = 1\n",
    "    um3 = um3.groupby(['User_id', 'Merchant_id'], as_index=False).count()\n",
    "\n",
    "    um4 = fdf[(fdf['Date_received'].isnull().values == False) & (fdf['Date'].isnull().values == False)][\n",
    "        ['User_id', 'Merchant_id']].copy()\n",
    "    um4['um_buy_with_coupon'] = 1\n",
    "    um4 = um4.groupby(['User_id', 'Merchant_id'], as_index=False).count()\n",
    "\n",
    "    # 整合特征\n",
    "    user_merchant_feature = pd.merge(um, um1, on=['User_id', 'Merchant_id'], how='left')\n",
    "    user_merchant_feature = pd.merge(user_merchant_feature, um2, on=['User_id', 'Merchant_id'], how='left')\n",
    "    user_merchant_feature = pd.merge(user_merchant_feature, um3, on=['User_id', 'Merchant_id'], how='left')\n",
    "    user_merchant_feature = pd.merge(user_merchant_feature, um4, on=['User_id', 'Merchant_id'], how='left')\n",
    "    user_merchant_feature = user_merchant_feature.fillna(0)\n",
    "\n",
    "    user_merchant_feature['um_buy_rate'] = user_merchant_feature['um_buy_count'] / user_merchant_feature['um_count']\n",
    "    user_merchant_feature['um_coupon_use_rate'] = user_merchant_feature['um_buy_with_coupon'] / user_merchant_feature[\n",
    "        'um_coupon_count']\n",
    "    user_merchant_feature['um_buy_with_coupon_rate'] = user_merchant_feature['um_buy_with_coupon'] / \\\n",
    "                                                       user_merchant_feature['um_buy_count']\n",
    "    user_merchant_feature = user_merchant_feature.fillna(0)\n",
    "\n",
    "    return user_merchant_feature\n",
    "\n",
    "def featureProcess(feature,train):\n",
    "    user_feature = userFeature(feature)\n",
    "    merchant_feature = merchantFeature(feature)\n",
    "    user_merchant_feature = usermerchantFeature(feature)\n",
    "\n",
    "    train = pd.merge(train,user_feature,on = 'User_id',how = 'left')\n",
    "    train = pd.merge(train,merchant_feature,on = 'Merchant_id',how = 'left')\n",
    "    train = pd.merge(train,user_merchant_feature,on = ['User_id','Merchant_id'],how = 'left')\n",
    "    train = train.fillna(0)\n",
    "\n",
    "    return train"
   ]
  },
  {
   "cell_type": "code",
   "execution_count": 47,
   "metadata": {},
   "outputs": [
    {
     "name": "stdout",
     "output_type": "stream",
     "text": [
      "0    229715\n",
      "1     22871\n",
      "Name: label, dtype: int64\n"
     ]
    }
   ],
   "source": [
    "feature = data[(data['Date'] < '20160516') | ((data['Date'].isnull().values == True) & (data['Date_received'] < '20160516'))]\n",
    "data = data[(data['Date_received'] >= '20160516') & (data['Date_received'] <= '20160615')]\n",
    "print(data['label'].value_counts())"
   ]
  },
  {
   "cell_type": "code",
   "execution_count": 56,
   "metadata": {},
   "outputs": [],
   "source": [
    "train = featureProcess(feature,data)"
   ]
  },
  {
   "cell_type": "code",
   "execution_count": 57,
   "metadata": {},
   "outputs": [
    {
     "data": {
      "text/plain": [
       "(252586, 47)"
      ]
     },
     "execution_count": 57,
     "metadata": {},
     "output_type": "execute_result"
    }
   ],
   "source": [
    "train.shape"
   ]
  },
  {
   "cell_type": "code",
   "execution_count": 58,
   "metadata": {},
   "outputs": [
    {
     "name": "stdout",
     "output_type": "stream",
     "text": [
      "['User_id', 'Merchant_id', 'Coupon_id', 'Discount_rate', 'Distance', 'Date_received', 'Date', 'discount_rate', 'discount_man', 'discount_jian', 'discount_type', 'distance', 'weekday_type', 'weekday_1.0', 'weekday_2.0', 'weekday_3.0', 'weekday_4.0', 'weekday_5.0', 'weekday_6.0', 'weekday_7.0', 'label', 'u_coupon_count', 'u_buy_count', 'u_buy_with_coupon', 'u_merchant_count', 'u_min_distance', 'u_max_distance', 'u_mean_distance', 'u_median_distance', 'u_use_coupon_rate', 'u_buy_with_coupon_rate', 'm_coupon_count', 'm_sale_count', 'm_sale_with_coupon', 'm_min_distance', 'm_max_distance', 'm_mean_distance', 'm_median_distance', 'm_coupon_use_rate', 'm_sale_with_coupon_rate', 'um_count', 'um_buy_count', 'um_coupon_count', 'um_buy_with_coupon', 'um_buy_rate', 'um_coupon_use_rate', 'um_buy_with_coupon_rate']\n"
     ]
    }
   ],
   "source": [
    "print(train.columns.tolist())"
   ]
  },
  {
   "cell_type": "code",
   "execution_count": 60,
   "metadata": {},
   "outputs": [],
   "source": [
    "predictors = ['discount_rate', 'discount_man', 'discount_jian', 'discount_type', 'distance','weekday_type', 'weekday_1.0',\n",
    "              'weekday_2.0', 'weekday_3.0', 'weekday_4.0', 'weekday_5.0', 'weekday_6.0', 'weekday_7.0', \n",
    "              'u_coupon_count', 'u_buy_count', 'u_buy_with_coupon', 'u_merchant_count', 'u_min_distance', \n",
    "              'u_max_distance', 'u_mean_distance', 'u_median_distance', 'u_use_coupon_rate', 'u_buy_with_coupon_rate', \n",
    "              'm_coupon_count', 'm_sale_count', 'm_sale_with_coupon', 'm_min_distance', 'm_max_distance',\n",
    "              'm_mean_distance', 'm_median_distance', 'm_coupon_use_rate', 'm_sale_with_coupon_rate', 'um_count', 'um_buy_count', \n",
    "              'um_coupon_count', 'um_buy_with_coupon', 'um_buy_rate', 'um_coupon_use_rate', 'um_buy_with_coupon_rate']"
   ]
  },
  {
   "cell_type": "markdown",
   "metadata": {},
   "source": [
    "# 模型训练"
   ]
  },
  {
   "cell_type": "markdown",
   "metadata": {},
   "source": [
    "1、划分训练集与测试集"
   ]
  },
  {
   "cell_type": "code",
   "execution_count": 74,
   "metadata": {},
   "outputs": [],
   "source": [
    "X = train[predictors]\n",
    "y = train['label']\n",
    "X_train,X_test,y_train,y_test = train_test_split(X,y,test_size = 0.2,random_state = 0)"
   ]
  },
  {
   "cell_type": "markdown",
   "metadata": {},
   "source": [
    "2、训练梯度提升决策树模型（GBDT）"
   ]
  },
  {
   "cell_type": "code",
   "execution_count": 71,
   "metadata": {},
   "outputs": [
    {
     "name": "stdout",
     "output_type": "stream",
     "text": [
      "best_params:{'n_estimators': 100}\n",
      "best_score:0.839\n"
     ]
    }
   ],
   "source": [
    "from sklearn.ensemble import GradientBoostingClassifier\n",
    "from sklearn.metrics import accuracy_score,precision_score,recall_score,roc_auc_score\n",
    "\n",
    "# 对迭代次数进行调参\n",
    "param_grid = {'n_estimators':range(10,101,10)}\n",
    "grid_search = GridSearchCV(GradientBoostingClassifier(learning_rate=0.1,random_state = 0),param_grid,scoring='roc_auc',cv=5)\n",
    "grid_search.fit(X_train,y_train)\n",
    "print('best_params:{}'.format(grid_search.best_params_))\n",
    "print('best_score:{:.3f}'.format(grid_search.best_score_))"
   ]
  },
  {
   "cell_type": "code",
   "execution_count": 87,
   "metadata": {},
   "outputs": [
    {
     "name": "stdout",
     "output_type": "stream",
     "text": [
      "精度:0.916\n",
      "AUC:0.837\n"
     ]
    },
    {
     "data": {
      "text/plain": [
       "<matplotlib.legend.Legend at 0x19284404da0>"
      ]
     },
     "execution_count": 87,
     "metadata": {},
     "output_type": "execute_result"
    },
    {
     "data": {
      "image/png": "[encoded data removed]",
      "text/plain": [
       "<Figure size 432x288 with 1 Axes>"
      ]
     },
     "metadata": {
      "needs_background": "light"
     },
     "output_type": "display_data"
    }
   ],
   "source": [
    "# 计算准确率和AUC\n",
    "best_model = GradientBoostingClassifier(learning_rate=0.1,n_estimators = 100,random_state = 0)\n",
    "best_model.fit(X_train,y_train)\n",
    "y_pred = best_model.predict(X_test)\n",
    "y_predprob = best_model.predict_proba(X_test)[:,1]\n",
    "print('精度:{:.3f}'.format(accuracy_score(y_test,y_pred)))\n",
    "print('AUC:{:.3f}'.format(roc_auc_score(y_test,y_predprob)))\n",
    "\n",
    "# 绘制ROC曲线\n",
    "from sklearn.metrics import roc_curve\n",
    "\n",
    "FPR,TPR,thresholds = roc_curve(y_test,y_predprob)\n",
    "plt.plot(FPR,TPR,label='gbdt roc_curve')\n",
    "plt.title('GBDT Roc Curve')\n",
    "plt.xlabel('FPR')\n",
    "plt.ylabel('TPR(recall)')\n",
    "plt.legend(loc='best')"
   ]
  }
 ],
 "metadata": {
  "kernelspec": {
   "display_name": "Python 3",
   "language": "python",
   "name": "python3"
  },
  "language_info": {
   "codemirror_mode": {
    "name": "ipython",
    "version": 3
   },
   "file_extension": ".py",
   "mimetype": "text/x-python",
   "name": "python",
   "nbconvert_exporter": "python",
   "pygments_lexer": "ipython3",
   "version": "3.7.3"
  }
 },
 "nbformat": 4,
 "nbformat_minor": 2
}
